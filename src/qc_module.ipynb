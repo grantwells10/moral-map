{
 "cells": [
  {
   "cell_type": "code",
   "execution_count": 1,
   "metadata": {},
   "outputs": [],
   "source": [
    "import json"
   ]
  },
  {
   "cell_type": "code",
   "execution_count": 2,
   "metadata": {},
   "outputs": [],
   "source": [
    "def load_data(file_path):\n",
    "    \"\"\"\n",
    "    Load participant data from a JSON file.\n",
    "    \n",
    "    Parameters:\n",
    "    - file_path: Path to the JSON file containing participant data.\n",
    "    \n",
    "    Returns:\n",
    "    - data: List of participant data dictionaries.\n",
    "    \"\"\"\n",
    "    with open(file_path) as f:\n",
    "        data = json.load(f)\n",
    "    return data"
   ]
  },
  {
   "cell_type": "code",
   "execution_count": 3,
   "metadata": {},
   "outputs": [],
   "source": [
    "def check_attention(responses, control_issues):\n",
    "    \"\"\"\n",
    "    Check if participant passes attention checks based on control issues.\n",
    "    \n",
    "    Parameters:\n",
    "    - responses: List of response dictionaries from participant.\n",
    "    - control_issues: Dictionary of control issues and expected responses.\n",
    "    \n",
    "    Returns:\n",
    "    - (bool, str): A tuple with quality flag and reason.\n",
    "    \"\"\"\n",
    "    for issue, expected_answer in control_issues.items():\n",
    "        # Find the participant's answer to the control question\n",
    "        response = next((resp[\"answer\"] for resp in responses if resp[\"issue\"] == issue), None)\n",
    "        if response != expected_answer:\n",
    "            return True, \"Failed attention check; inconsistent answer on control issue\"\n",
    "    return False, \"Passed attention check with reasonable responses\""
   ]
  },
  {
   "cell_type": "code",
   "execution_count": 4,
   "metadata": {},
   "outputs": [],
   "source": [
    "def perform_quality_control(data, control_issues):\n",
    "    \"\"\"\n",
    "    Perform quality control checks on each participant's data.\n",
    "    \n",
    "    Parameters:\n",
    "    - data: List of participant data dictionaries.\n",
    "    - control_issues: Dictionary of control issues and expected answers.\n",
    "    \n",
    "    Returns:\n",
    "    - qc_results: List of QC check results for each participant.\n",
    "    \"\"\"\n",
    "    qc_results = []\n",
    "    for participant in data:\n",
    "        qc_flag, reason = check_attention(participant[\"responses\"], control_issues)\n",
    "        qc_results.append({\n",
    "            \"participant_id\": participant[\"participant_id\"],\n",
    "            \"quality_flag\": qc_flag,\n",
    "            \"reason\": reason\n",
    "        })\n",
    "    return qc_results"
   ]
  },
  {
   "cell_type": "code",
   "execution_count": 5,
   "metadata": {},
   "outputs": [],
   "source": [
    "def save_qc_results(qc_results, output_path):\n",
    "    \"\"\"\n",
    "    Save quality control results to a JSON file.\n",
    "    \n",
    "    Parameters:\n",
    "    - qc_results: List of QC check results.\n",
    "    - output_path: Path to save the QC results JSON file.\n",
    "    \"\"\"\n",
    "    with open(output_path, 'w') as f:\n",
    "        json.dump(qc_results, f, indent=4)"
   ]
  },
  {
   "cell_type": "code",
   "execution_count": null,
   "metadata": {},
   "outputs": [
    {
     "ename": "FileNotFoundError",
     "evalue": "[Errno 2] No such file or directory: 'MORAL-MAP/docs/data/sample_participant_data.json'",
     "output_type": "error",
     "traceback": [
      "\u001b[0;31m---------------------------------------------------------------------------\u001b[0m",
      "\u001b[0;31mFileNotFoundError\u001b[0m                         Traceback (most recent call last)",
      "Cell \u001b[0;32mIn[8], line 1\u001b[0m\n\u001b[0;32m----> 1\u001b[0m data \u001b[38;5;241m=\u001b[39m \u001b[43mload_data\u001b[49m\u001b[43m(\u001b[49m\u001b[38;5;124;43m\"\u001b[39;49m\u001b[38;5;124;43mMORAL-MAP/docs/data/sample_participant_data.json\u001b[39;49m\u001b[38;5;124;43m\"\u001b[39;49m\u001b[43m)\u001b[49m\n\u001b[1;32m      3\u001b[0m \u001b[38;5;66;03m# Define control issues with expected answers for attention check\u001b[39;00m\n\u001b[1;32m      4\u001b[0m control_issues \u001b[38;5;241m=\u001b[39m {\n\u001b[1;32m      5\u001b[0m     \u001b[38;5;124m\"\u001b[39m\u001b[38;5;124mGun Control\u001b[39m\u001b[38;5;124m\"\u001b[39m: \u001b[38;5;124m\"\u001b[39m\u001b[38;5;124mYes\u001b[39m\u001b[38;5;124m\"\u001b[39m,\n\u001b[1;32m      6\u001b[0m     \u001b[38;5;124m\"\u001b[39m\u001b[38;5;124mAbortion\u001b[39m\u001b[38;5;124m\"\u001b[39m: \u001b[38;5;124m\"\u001b[39m\u001b[38;5;124mWith restrictions\u001b[39m\u001b[38;5;124m\"\u001b[39m\n\u001b[1;32m      7\u001b[0m }\n",
      "Cell \u001b[0;32mIn[2], line 11\u001b[0m, in \u001b[0;36mload_data\u001b[0;34m(file_path)\u001b[0m\n\u001b[1;32m      1\u001b[0m \u001b[38;5;28;01mdef\u001b[39;00m \u001b[38;5;21mload_data\u001b[39m(file_path):\n\u001b[1;32m      2\u001b[0m \u001b[38;5;250m    \u001b[39m\u001b[38;5;124;03m\"\"\"\u001b[39;00m\n\u001b[1;32m      3\u001b[0m \u001b[38;5;124;03m    Load participant data from a JSON file.\u001b[39;00m\n\u001b[1;32m      4\u001b[0m \u001b[38;5;124;03m    \u001b[39;00m\n\u001b[0;32m   (...)\u001b[0m\n\u001b[1;32m      9\u001b[0m \u001b[38;5;124;03m    - data: List of participant data dictionaries.\u001b[39;00m\n\u001b[1;32m     10\u001b[0m \u001b[38;5;124;03m    \"\"\"\u001b[39;00m\n\u001b[0;32m---> 11\u001b[0m     \u001b[38;5;28;01mwith\u001b[39;00m \u001b[38;5;28;43mopen\u001b[39;49m\u001b[43m(\u001b[49m\u001b[43mfile_path\u001b[49m\u001b[43m)\u001b[49m \u001b[38;5;28;01mas\u001b[39;00m f:\n\u001b[1;32m     12\u001b[0m         data \u001b[38;5;241m=\u001b[39m json\u001b[38;5;241m.\u001b[39mload(f)\n\u001b[1;32m     13\u001b[0m     \u001b[38;5;28;01mreturn\u001b[39;00m data\n",
      "File \u001b[0;32m~/Library/Python/3.9/lib/python/site-packages/IPython/core/interactiveshell.py:310\u001b[0m, in \u001b[0;36m_modified_open\u001b[0;34m(file, *args, **kwargs)\u001b[0m\n\u001b[1;32m    303\u001b[0m \u001b[38;5;28;01mif\u001b[39;00m file \u001b[38;5;129;01min\u001b[39;00m {\u001b[38;5;241m0\u001b[39m, \u001b[38;5;241m1\u001b[39m, \u001b[38;5;241m2\u001b[39m}:\n\u001b[1;32m    304\u001b[0m     \u001b[38;5;28;01mraise\u001b[39;00m \u001b[38;5;167;01mValueError\u001b[39;00m(\n\u001b[1;32m    305\u001b[0m         \u001b[38;5;124mf\u001b[39m\u001b[38;5;124m\"\u001b[39m\u001b[38;5;124mIPython won\u001b[39m\u001b[38;5;124m'\u001b[39m\u001b[38;5;124mt let you open fd=\u001b[39m\u001b[38;5;132;01m{\u001b[39;00mfile\u001b[38;5;132;01m}\u001b[39;00m\u001b[38;5;124m by default \u001b[39m\u001b[38;5;124m\"\u001b[39m\n\u001b[1;32m    306\u001b[0m         \u001b[38;5;124m\"\u001b[39m\u001b[38;5;124mas it is likely to crash IPython. If you know what you are doing, \u001b[39m\u001b[38;5;124m\"\u001b[39m\n\u001b[1;32m    307\u001b[0m         \u001b[38;5;124m\"\u001b[39m\u001b[38;5;124myou can use builtins\u001b[39m\u001b[38;5;124m'\u001b[39m\u001b[38;5;124m open.\u001b[39m\u001b[38;5;124m\"\u001b[39m\n\u001b[1;32m    308\u001b[0m     )\n\u001b[0;32m--> 310\u001b[0m \u001b[38;5;28;01mreturn\u001b[39;00m \u001b[43mio_open\u001b[49m\u001b[43m(\u001b[49m\u001b[43mfile\u001b[49m\u001b[43m,\u001b[49m\u001b[43m \u001b[49m\u001b[38;5;241;43m*\u001b[39;49m\u001b[43margs\u001b[49m\u001b[43m,\u001b[49m\u001b[43m \u001b[49m\u001b[38;5;241;43m*\u001b[39;49m\u001b[38;5;241;43m*\u001b[39;49m\u001b[43mkwargs\u001b[49m\u001b[43m)\u001b[49m\n",
      "\u001b[0;31mFileNotFoundError\u001b[0m: [Errno 2] No such file or directory: 'MORAL-MAP/docs/data/sample_participant_data.json'"
     ]
    }
   ],
   "source": [
    "data = load_data(\"data/sample_participant_data.json\")\n",
    "\n",
    "# Define control issues with expected answers for attention check\n",
    "control_issues = {\n",
    "    \"Gun Control\": \"Yes\",\n",
    "    \"Abortion\": \"With restrictions\"\n",
    "}\n",
    "\n",
    "# Perform QC checks\n",
    "qc_results = perform_quality_control(data, control_issues)\n",
    "\n",
    "# Save results to a file\n",
    "save_qc_results(qc_results, \"data/sample_qc_output.json\")\n",
    "\n",
    "# Display the QC results\n",
    "qc_results"
   ]
  }
 ],
 "metadata": {
  "kernelspec": {
   "display_name": "Python 3",
   "language": "python",
   "name": "python3"
  },
  "language_info": {
   "codemirror_mode": {
    "name": "ipython",
    "version": 3
   },
   "file_extension": ".py",
   "mimetype": "text/x-python",
   "name": "python",
   "nbconvert_exporter": "python",
   "pygments_lexer": "ipython3",
   "version": "3.9.6"
  }
 },
 "nbformat": 4,
 "nbformat_minor": 2
}
