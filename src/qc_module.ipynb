{
 "cells": [
  {
   "cell_type": "code",
   "execution_count": null,
   "metadata": {
    "vscode": {
     "languageId": "plaintext"
    }
   },
   "outputs": [],
   "source": [
    "import json"
   ]
  },
  {
   "cell_type": "code",
   "execution_count": null,
   "metadata": {
    "vscode": {
     "languageId": "plaintext"
    }
   },
   "outputs": [],
   "source": [
    "def load_data(file_path):\n",
    "    \"\"\"\n",
    "    Load participant data from a JSON file.\n",
    "    \n",
    "    Parameters:\n",
    "    - file_path: Path to the JSON file containing participant data.\n",
    "    \n",
    "    Returns:\n",
    "    - data: List of participant data dictionaries.\n",
    "    \"\"\"\n",
    "    with open(file_path) as f:\n",
    "        data = json.load(f)\n",
    "    return data"
   ]
  },
  {
   "cell_type": "code",
   "execution_count": null,
   "metadata": {
    "vscode": {
     "languageId": "plaintext"
    }
   },
   "outputs": [],
   "source": [
    "def check_attention(responses, control_issues):\n",
    "    \"\"\"\n",
    "    Check if participant passes attention checks based on control issues.\n",
    "    \n",
    "    Parameters:\n",
    "    - responses: List of response dictionaries from participant.\n",
    "    - control_issues: Dictionary of control issues and expected responses.\n",
    "    \n",
    "    Returns:\n",
    "    - (bool, str): A tuple with quality flag and reason.\n",
    "    \"\"\"\n",
    "    for issue, expected_answer in control_issues.items():\n",
    "        # Find the participant's answer to the control question\n",
    "        response = next((resp[\"answer\"] for resp in responses if resp[\"issue\"] == issue), None)\n",
    "        if response != expected_answer:\n",
    "            return True, \"Failed attention check; inconsistent answer on control issue\"\n",
    "    return False, \"Passed attention check with reasonable responses\""
   ]
  },
  {
   "cell_type": "code",
   "execution_count": null,
   "metadata": {
    "vscode": {
     "languageId": "plaintext"
    }
   },
   "outputs": [],
   "source": [
    "def perform_quality_control(data, control_issues):\n",
    "    \"\"\"\n",
    "    Perform quality control checks on each participant's data.\n",
    "    \n",
    "    Parameters:\n",
    "    - data: List of participant data dictionaries.\n",
    "    - control_issues: Dictionary of control issues and expected answers.\n",
    "    \n",
    "    Returns:\n",
    "    - qc_results: List of QC check results for each participant.\n",
    "    \"\"\"\n",
    "    qc_results = []\n",
    "    for participant in data:\n",
    "        qc_flag, reason = check_attention(participant[\"responses\"], control_issues)\n",
    "        qc_results.append({\n",
    "            \"participant_id\": participant[\"participant_id\"],\n",
    "            \"quality_flag\": qc_flag,\n",
    "            \"reason\": reason\n",
    "        })\n",
    "    return qc_results"
   ]
  },
  {
   "cell_type": "code",
   "execution_count": null,
   "metadata": {
    "vscode": {
     "languageId": "plaintext"
    }
   },
   "outputs": [],
   "source": [
    "def save_qc_results(qc_results, output_path):\n",
    "    \"\"\"\n",
    "    Save quality control results to a JSON file.\n",
    "    \n",
    "    Parameters:\n",
    "    - qc_results: List of QC check results.\n",
    "    - output_path: Path to save the QC results JSON file.\n",
    "    \"\"\"\n",
    "    with open(output_path, 'w') as f:\n",
    "        json.dump(qc_results, f, indent=4)"
   ]
  },
  {
   "cell_type": "code",
   "execution_count": null,
   "metadata": {
    "vscode": {
     "languageId": "plaintext"
    }
   },
   "outputs": [],
   "source": [
    "data = load_data(\"data/sample_participant_data.json\")\n",
    "\n",
    "# Define control issues with expected answers for attention check\n",
    "control_issues = {\n",
    "    \"Gun Control\": \"Yes\",\n",
    "    \"Abortion\": \"With restrictions\"\n",
    "}\n",
    "\n",
    "# Perform QC checks\n",
    "qc_results = perform_quality_control(data, control_issues)\n",
    "\n",
    "# Save results to a file\n",
    "save_qc_results(qc_results, \"data/sample_qc_output.json\")\n",
    "\n",
    "# Display the QC results\n",
    "qc_results"
   ]
  }
 ],
 "metadata": {
  "language_info": {
   "name": "python"
  }
 },
 "nbformat": 4,
 "nbformat_minor": 2
}
