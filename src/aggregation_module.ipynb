{
 "cells": [
  {
   "cell_type": "code",
   "execution_count": null,
   "metadata": {},
   "outputs": [],
   "source": [
    "import json\n",
    "from collections import defaultdict"
   ]
  },
  {
   "cell_type": "code",
   "execution_count": null,
   "metadata": {},
   "outputs": [],
   "source": [
    "def load_data(file_path):\n",
    "    \"\"\"\n",
    "    Load participant data from a JSON file.\n",
    "    \n",
    "    Parameters:\n",
    "    - file_path: Path to the JSON file containing participant data.\n",
    "    \n",
    "    Returns:\n",
    "    - data: List of participant data dictionaries.\n",
    "    \"\"\"\n",
    "    with open(file_path) as f:\n",
    "        data = json.load(f)\n",
    "    return data"
   ]
  },
  {
   "cell_type": "code",
   "execution_count": null,
   "metadata": {},
   "outputs": [],
   "source": [
    "def aggregate_responses(data):\n",
    "    \"\"\"\n",
    "    Aggregate participant responses by issue and demographic attributes.\n",
    "    \n",
    "    Parameters:\n",
    "    - data: List of participant data dictionaries.\n",
    "    \n",
    "    Returns:\n",
    "    - aggregated_data: Dictionary with counts of responses per issue and demographic.\n",
    "    \"\"\"\n",
    "    aggregated_data = defaultdict(lambda: defaultdict(lambda: defaultdict(int)))\n",
    "    \n",
    "    for participant in data:\n",
    "        demographic = participant[\"demographics\"][\"political_affiliation\"]\n",
    "        \n",
    "        for response in participant[\"responses\"]:\n",
    "            issue = response[\"issue\"]\n",
    "            answer = response[\"answer\"]\n",
    "            \n",
    "            # Increment the count for this demographic, issue, and answer\n",
    "            aggregated_data[issue][answer][demographic] += 1\n",
    "    \n",
    "    # Convert defaultdicts to standard dicts for JSON serialization\n",
    "    return {issue: dict(answers) for issue, answers in aggregated_data.items()}"
   ]
  },
  {
   "cell_type": "code",
   "execution_count": null,
   "metadata": {},
   "outputs": [],
   "source": [
    "def save_aggregation_results(aggregated_data, output_path):\n",
    "    \"\"\"\n",
    "    Save aggregated results to a JSON file.\n",
    "    \n",
    "    Parameters:\n",
    "    - aggregated_data: Dictionary with aggregated response data.\n",
    "    - output_path: Path to save the aggregated data JSON file.\n",
    "    \"\"\"\n",
    "    with open(output_path, 'w') as f:\n",
    "        json.dump(aggregated_data, f, indent=4)"
   ]
  },
  {
   "cell_type": "code",
   "execution_count": null,
   "metadata": {},
   "outputs": [],
   "source": [
    "# Load participant data\n",
    "data = load_data(\"data/sample_aggregation_input.json\")\n",
    "\n",
    "# Perform aggregation\n",
    "aggregated_data = aggregate_responses(data)\n",
    "\n",
    "# Save results to a file\n",
    "save_aggregation_results(aggregated_data, \"data/sample_aggregation_output.json\")\n",
    "\n",
    "# Display the aggregated data\n",
    "print(json.dumps(aggregated_data, indent=4))"
   ]
  }
 ],
 "metadata": {
  "language_info": {
   "name": "python"
  }
 },
 "nbformat": 4,
 "nbformat_minor": 2
}
